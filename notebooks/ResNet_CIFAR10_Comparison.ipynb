{
 "cells": [
  {
   "cell_type": "markdown",
   "metadata": {},
   "source": [
    "# ResNet vs Plain CNN on CIFAR-10: Complete Analysis\n",
    "\n",
    "This notebook implements and compares Deep Residual Networks (ResNet) with plain CNNs on the CIFAR-10 dataset, based on the paper \"Deep Residual Learning for Image Recognition\" by He et al. (2016).\n",
    "\n",
    "## Paper Reference\n",
    "**Title**: Deep Residual Learning for Image Recognition  \n",
    "**Authors**: Kaiming He, Xiangyu Zhang, Shaoqing Ren, Jian Sun  \n",
    "**Conference**: CVPR 2016  \n",
    "**Paper Link**: https://arxiv.org/pdf/1512.03385"
   ]
  },
  {
   "cell_type": "markdown",
   "metadata": {},
   "source": [
    "## 1. Setup and Imports"
   ]
  },
  {
   "cell_type": "code",
   "execution_count": null,
   "metadata": {},
   "outputs": [],
   "source": [
    "import torch\n",
    "import torch.nn as nn\n",
    "import torch.optim as optim\n",
    "import torchvision\n",
    "import torchvision.transforms as transforms\n",
    "import matplotlib.pyplot as plt\n",
    "import numpy as np\n",
    "import seaborn as sns\n",
    "from tqdm import tqdm\n",
    "import os\n",
    "import sys\n",
    "\n",
    "# Add src to path\n",
    "sys.path.append('../')\n",
    "\n",
    "from src.models import ResNet18, PlainCNN18\n",
    "from src.data import get_cifar10_loaders\n",
    "from src.training import Trainer, set_seed, count_parameters\n",
    "from src.evaluation import evaluate_model, plot_training_curves, plot_model_comparison\n",
    "\n",
    "# Set style\n",
    "plt.style.use('seaborn-v0_8')\n",
    "sns.set_palette(\"husl\")\n",
    "\n",
    "# Set device\n",
    "device = 'cuda' if torch.cuda.is_available() else 'cpu'\n",
    "print(f\"Using device: {device}\")\n",
    "\n",
    "# Set random seed for reproducibility\n",
    "set_seed(42)"
   ]
  },
  {
   "cell_type": "markdown",
   "metadata": {},
   "source": [
    "## 2. Data Loading and Exploration"
   ]
  },
  {
   "cell_type": "code",
   "execution_count": null,
   "metadata": {},
   "outputs": [],
   "source": [
    "# Load CIFAR-10 dataset\n",
    "train_loader, test_loader, classes = get_cifar10_loaders(batch_size=128)\n",
    "\n",
    "print(f\"CIFAR-10 Classes: {classes}\")\n",
    "print(f\"Training batches: {len(train_loader)}\")\n",
    "print(f\"Test batches: {len(test_loader)}\")"
   ]
  },
  {
   "cell_type": "code",
   "execution_count": null,
   "metadata": {},
   "outputs": [],
   "source": [
    "# Visualize sample images\n",
    "def imshow(img, title=None):\n",
    "    img = img / 2 + 0.5  # unnormalize\n",
    "    npimg = img.numpy()\n",
    "    plt.imshow(np.transpose(npimg, (1, 2, 0)))\n",
    "    if title:\n",
    "        plt.title(title)\n",
    "    plt.axis('off')\n",
    "\n",
    "# Get sample batch\n",
    "dataiter = iter(train_loader)\n",
    "images, labels = next(dataiter)\n",
    "\n",
    "# Show sample images\n",
    "fig, axes = plt.subplots(2, 4, figsize=(12, 6))\n",
    "for i in range(8):\n",
    "    row, col = i // 4, i % 4\n",
    "    axes[row, col].imshow(np.transpose(images[i].numpy() / 2 + 0.5, (1, 2, 0)))\n",
    "    axes[row, col].set_title(f'{classes[labels[i]]}')\n",
    "    axes[row, col].axis('off')\n",
    "\n",
    "plt.suptitle('Sample CIFAR-10 Images')\n",
    "plt.tight_layout()\n",
    "plt.show()"
   ]
  },
  {
   "cell_type": "markdown",
   "metadata": {},
   "source": [
    "## 3. Model Architecture Comparison"
   ]
  },
  {
   "cell_type": "code",
   "execution_count": null,
   "metadata": {},
   "outputs": [],
   "source": [
    "# Create both models\n",
    "resnet_model = ResNet18(num_classes=10)\n",
    "plain_model = PlainCNN18(num_classes=10)\n",
    "\n",
    "print(\"ResNet-18 Architecture:\")\n",
    "print(\"=\" * 30)\n",
    "count_parameters(resnet_model)\n",
    "print()\n",
    "\n",
    "print(\"Plain CNN-18 Architecture:\")\n",
    "print(\"=\" * 30)\n",
    "count_parameters(plain_model)\n",
    "print()\n",
    "\n",
    "# Test forward pass\n",
    "test_input = torch.randn(1, 3, 32, 32)\n",
    "resnet_output = resnet_model(test_input)\n",
    "plain_output = plain_model(test_input)\n",
    "\n",
    "print(f\"Input shape: {test_input.shape}\")\n",
    "print(f\"ResNet output shape: {resnet_output.shape}\")\n",
    "print(f\"Plain CNN output shape: {plain_output.shape}\")"
   ]
  },
  {
   "cell_type": "markdown",
   "metadata": {},
   "source": [
    "## 4. Key Difference: Skip Connections\n",
    "\n",
    "The fundamental difference between ResNet and Plain CNN is the presence of **skip connections** (residual connections) in ResNet. Let's visualize this:"
   ]
  },
  {
   "cell_type": "code",
   "execution_count": null,
   "metadata": {},
   "outputs": [],
   "source": [
    "# Visualize the key architectural difference\n",
    "fig, (ax1, ax2) = plt.subplots(1, 2, figsize=(15, 6))\n",
    "\n",
    "# Plain CNN block\n",
    "ax1.text(0.5, 0.9, 'Input', ha='center', va='center', fontsize=12, \n",
    "         bbox=dict(boxstyle=\"round,pad=0.3\", facecolor=\"lightblue\"))\n",
    "ax1.arrow(0.5, 0.85, 0, -0.1, head_width=0.02, head_length=0.02, fc='black', ec='black')\n",
    "\n",
    "ax1.text(0.5, 0.7, 'Conv + BN + ReLU', ha='center', va='center', fontsize=10,\n",
    "         bbox=dict(boxstyle=\"round,pad=0.3\", facecolor=\"lightgreen\"))\n",
    "ax1.arrow(0.5, 0.65, 0, -0.1, head_width=0.02, head_length=0.02, fc='black', ec='black')\n",
    "\n",
    "ax1.text(0.5, 0.5, 'Conv + BN', ha='center', va='center', fontsize=10,\n",
    "         bbox=dict(boxstyle=\"round,pad=0.3\", facecolor=\"lightgreen\"))\n",
    "ax1.arrow(0.5, 0.45, 0, -0.1, head_width=0.02, head_length=0.02, fc='black', ec='black')\n",
    "\n",
    "ax1.text(0.5, 0.3, 'ReLU', ha='center', va='center', fontsize=10,\n",
    "         bbox=dict(boxstyle=\"round,pad=0.3\", facecolor=\"lightyellow\"))\n",
    "ax1.arrow(0.5, 0.25, 0, -0.1, head_width=0.02, head_length=0.02, fc='black', ec='black')\n",
    "\n",
    "ax1.text(0.5, 0.1, 'Output', ha='center', va='center', fontsize=12,\n",
    "         bbox=dict(boxstyle=\"round,pad=0.3\", facecolor=\"lightcoral\"))\n",
    "\n",
    "ax1.set_xlim(0, 1)\n",
    "ax1.set_ylim(0, 1)\n",
    "ax1.set_title('Plain CNN Block', fontsize=14, fontweight='bold')\n",
    "ax1.axis('off')\n",
    "\n",
    "# ResNet block with skip connection\n",
    "ax2.text(0.5, 0.9, 'Input', ha='center', va='center', fontsize=12,\n",
    "         bbox=dict(boxstyle=\"round,pad=0.3\", facecolor=\"lightblue\"))\n",
    "ax2.arrow(0.5, 0.85, 0, -0.1, head_width=0.02, head_length=0.02, fc='black', ec='black')\n",
    "\n",
    "ax2.text(0.5, 0.7, 'Conv + BN + ReLU', ha='center', va='center', fontsize=10,\n",
    "         bbox=dict(boxstyle=\"round,pad=0.3\", facecolor=\"lightgreen\"))\n",
    "ax2.arrow(0.5, 0.65, 0, -0.1, head_width=0.02, head_length=0.02, fc='black', ec='black')\n",
    "\n",
    "ax2.text(0.5, 0.5, 'Conv + BN', ha='center', va='center', fontsize=10,\n",
    "         bbox=dict(boxstyle=\"round,pad=0.3\", facecolor=\"lightgreen\"))\n",
    "ax2.arrow(0.5, 0.45, 0, -0.05, head_width=0.02, head_length=0.02, fc='black', ec='black')\n",
    "\n",
    "# Skip connection\n",
    "ax2.plot([0.2, 0.2, 0.35], [0.9, 0.35, 0.35], 'r-', linewidth=3, label='Skip Connection')\n",
    "ax2.arrow(0.35, 0.35, 0.1, 0, head_width=0.02, head_length=0.02, fc='red', ec='red')\n",
    "\n",
    "# Addition\n",
    "ax2.text(0.5, 0.35, '+', ha='center', va='center', fontsize=16, fontweight='bold',\n",
    "         bbox=dict(boxstyle=\"circle,pad=0.1\", facecolor=\"yellow\"))\n",
    "ax2.arrow(0.5, 0.3, 0, -0.05, head_width=0.02, head_length=0.02, fc='black', ec='black')\n",
    "\n",
    "ax2.text(0.5, 0.2, 'ReLU', ha='center', va='center', fontsize=10,\n",
    "         bbox=dict(boxstyle=\"round,pad=0.3\", facecolor=\"lightyellow\"))\n",
    "ax2.arrow(0.5, 0.15, 0, -0.05, head_width=0.02, head_length=0.02, fc='black', ec='black')\n",
    "\n",
    "ax2.text(0.5, 0.05, 'Output', ha='center', va='center', fontsize=12,\n",
    "         bbox=dict(boxstyle=\"round,pad=0.3\", facecolor=\"lightcoral\"))\n",
    "\n",
    "ax2.set_xlim(0, 1)\n",
    "ax2.set_ylim(0, 1)\n",
    "ax2.set_title('ResNet Block (with Skip Connection)', fontsize=14, fontweight='bold')\n",
    "ax2.axis('off')\n",
    "ax2.legend(loc='upper right')\n",
    "\n",
    "plt.tight_layout()\n",
    "plt.show()\n",
    "\n",
    "print(\"Key Difference:\")\n",
    "print(\"• Plain CNN: Output = F(x)\")\n",
    "print(\"• ResNet: Output = F(x) + x (skip connection)\")\n",
    "print(\"\\nThis allows ResNet to learn residual mappings, making training easier for deep networks.\")"
   ]
  },
  {
   "cell_type": "markdown",
   "metadata": {},
   "source": [
    "## 5. Training Both Models\n",
    "\n",
    "Now let's train both models and compare their performance. We'll use the same hyperparameters for fair comparison."
   ]
  },
  {
   "cell_type": "code",
   "execution_count": null,
   "metadata": {},
   "outputs": [],
   "source": [
    "# Training hyperparameters\n",
    "EPOCHS = 100  # Reduced for notebook demo\n",
    "LEARNING_RATE = 0.1\n",
    "WEIGHT_DECAY = 1e-4\n",
    "BATCH_SIZE = 128\n",
    "\n",
    "print(f\"Training Configuration:\")\n",
    "print(f\"Epochs: {EPOCHS}\")\n",
    "print(f\"Learning Rate: {LEARNING_RATE}\")\n",
    "print(f\"Weight Decay: {WEIGHT_DECAY}\")\n",
    "print(f\"Batch Size: {BATCH_SIZE}\")\n",
    "print(f\"Device: {device}\")"
   ]
  },
  {
   "cell_type": "markdown",
   "metadata": {},
   "source": [
    "### 5.1 Train ResNet-18"
   ]
  },
  {
   "cell_type": "code",
   "execution_count": null,
   "metadata": {},
   "outputs": [],
   "source": [
    "# Train ResNet\n",
    "print(\"Training ResNet-18...\")\n",
    "print(\"=\" * 30)\n",
    "\n",
    "resnet_model = ResNet18(num_classes=10)\n",
    "resnet_trainer = Trainer(\n",
    "    model=resnet_model,\n",
    "    train_loader=train_loader,\n",
    "    test_loader=test_loader,\n",
    "    device=device,\n",
    "    lr=LEARNING_RATE,\n",
    "    weight_decay=WEIGHT_DECAY,\n",
    "    log_dir='./logs/resnet'\n",
    ")\n",
    "\n",
    "resnet_best_acc = resnet_trainer.train(epochs=EPOCHS, save_path='./checkpoints/resnet')\n",
    "resnet_history = resnet_trainer.get_training_history()\n",
    "\n",
    "print(f\"ResNet-18 Best Accuracy: {resnet_best_acc:.2f}%\")"
   ]
  },
  {
   "cell_type": "markdown",
   "metadata": {},
   "source": [
    "### 5.2 Train Plain CNN-18"
   ]
  },
  {
   "cell_type": "code",
   "execution_count": null,
   "metadata": {},
   "outputs": [],
   "source": [
    "# Train Plain CNN\n",
    "print(\"Training Plain CNN-18...\")\n",
    "print(\"=\" * 30)\n",
    "\n",
    "plain_model = PlainCNN18(num_classes=10)\n",
    "plain_trainer = Trainer(\n",
    "    model=plain_model,\n",
    "    train_loader=train_loader,\n",
    "    test_loader=test_loader,\n",
    "    device=device,\n",
    "    lr=LEARNING_RATE,\n",
    "    weight_decay=WEIGHT_DECAY,\n",
    "    log_dir='./logs/plain'\n",
    ")\n",
    "\n",
    "plain_best_acc = plain_trainer.train(epochs=EPOCHS, save_path='./checkpoints/plain')\n",
    "plain_history = plain_trainer.get_training_history()\n",
    "\n",
    "print(f\"Plain CNN-18 Best Accuracy: {plain_best_acc:.2f}%\")"
   ]
  },
  {
   "cell_type": "markdown",
   "metadata": {},
   "source": [
    "## 6. Results Analysis and Comparison"
   ]
  },
  {
   "cell_type": "markdown",
   "metadata": {},
   "source": [
    "### 6.1 Training Curves Comparison"
   ]
  },
  {
   "cell_type": "code",
   "execution_count": null,
   "metadata": {},
   "outputs": [],
   "source": [
    "# Plot training curves\n",
    "plot_training_curves(resnet_history, plain_history, save_path='../results/training_curves.png')"
   ]
  },
  {
   "cell_type": "markdown",
   "metadata": {},
   "source": [
    "### 6.2 Final Model Evaluation"
   ]
  },
  {
   "cell_type": "code",
   "execution_count": null,
   "metadata": {},
   "outputs": [],
   "source": [
    "# Evaluate both models\n",
    "print(\"Evaluating ResNet-18...\")\n",
    "resnet_results = evaluate_model(resnet_model, test_loader, device)\n",
    "\n",
    "print(\"Evaluating Plain CNN-18...\")\n",
    "plain_results = evaluate_model(plain_model, test_loader, device)\n",
    "\n",
    "# Print comparison\n",
    "print(\"\\n\" + \"=\"*60)\n",
    "print(\"FINAL RESULTS COMPARISON\")\n",
    "print(\"=\"*60)\n",
    "print(f\"{'Metric':<25} {'ResNet-18':<15} {'Plain CNN-18':<15} {'Difference':<15}\")\n",
    "print(\"-\"*70)\n",
    "print(f\"{'Test Accuracy (%)':<25} {resnet_results['accuracy']:<15.2f} {plain_results['accuracy']:<15.2f} {resnet_results['accuracy'] - plain_results['accuracy']:<15.2f}\")\n",
    "print(f\"{'Top-5 Accuracy (%)':<25} {resnet_results['top5_accuracy']:<15.2f} {plain_results['top5_accuracy']:<15.2f} {resnet_results['top5_accuracy'] - plain_results['top5_accuracy']:<15.2f}\")\n",
    "print(f\"{'Test Loss':<25} {resnet_results['loss']:<15.4f} {plain_results['loss']:<15.4f} {resnet_results['loss'] - plain_results['loss']:<15.4f}\")\n",
    "print(f\"{'Best Training Acc (%)':<25} {resnet_best_acc:<15.2f} {plain_best_acc:<15.2f} {resnet_best_acc - plain_best_acc:<15.2f}\")\n",
    "print(\"=\"*70)"
   ]
  },
  {
   "cell_type": "markdown",
   "metadata": {},
   "source": [
    "### 6.3 Comprehensive Model Comparison"
   ]
  },
  {
   "cell_type": "code",
   "execution_count": null,
   "metadata": {},
   "outputs": [],
   "source": [
    "# Create comprehensive comparison plot\n",
    "plot_model_comparison(resnet_results, plain_results, save_path='../results/model_comparison.png')"
   ]
  },
  {
   "cell_type": "markdown",
   "metadata": {},
   "source": [
    "### 6.4 Gradient Flow Analysis"
   ]
  },
  {
   "cell_type": "code",
   "execution_count": null,
   "metadata": {},
   "outputs": [],
   "source": [
    "# Analyze gradient flow\n",
    "from src.evaluation import plot_gradient_flow\n",
    "\n",
    "# Get a sample input\n",
    "sample_input = torch.randn(1, 3, 32, 32).to(device)\n",
    "\n",
    "print(\"Analyzing gradient flow in ResNet-18...\")\n",
    "plot_gradient_flow(resnet_model, sample_input, save_path='../results/resnet_gradient_flow.png')\n",
    "\n",
    "print(\"Analyzing gradient flow in Plain CNN-18...\")\n",
    "plot_gradient_flow(plain_model, sample_input, save_path='../results/plain_gradient_flow.png')"
   ]
  },
  {
   "cell_type": "markdown",
   "metadata": {},
   "source": [
    "## 7. Key Findings and Analysis\n",
    "\n",
    "### 7.1 Performance Comparison"
   ]
  },
  {
   "cell_type": "code",
   "execution_count": null,
   "metadata": {},
   "outputs": [],
   "source": [
    "# Calculate improvement metrics\n",
    "accuracy_improvement = resnet_results['accuracy'] - plain_results['accuracy']\n",
    "relative_improvement = (accuracy_improvement / plain_results['accuracy']) * 100\n",
    "\n",
    "print(\"KEY FINDINGS:\")\n",
    "print(\"=\" * 50)\n",
    "print(f\"1. Accuracy Improvement: {accuracy_improvement:.2f} percentage points\")\n",
    "print(f\"2. Relative Improvement: {relative_improvement:.1f}%\")\n",
    "print(f\"3. ResNet converged to {resnet_best_acc:.2f}% vs Plain CNN's {plain_best_acc:.2f}%\")\n",
    "\n",
    "# Analyze training dynamics\n",
    "resnet_final_grad = resnet_history['gradient_norms'][-1]\n",
    "plain_final_grad = plain_history['gradient_norms'][-1]\n",
    "\n",
    "print(f\"\\nTRAINING DYNAMICS:\")\n",
    "print(f\"4. Final Gradient Norm - ResNet: {resnet_final_grad:.4f}\")\n",
    "print(f\"5. Final Gradient Norm - Plain: {plain_final_grad:.4f}\")\n",
    "print(f\"6. Gradient Ratio: {plain_final_grad/resnet_final_grad:.2f}x higher in Plain CNN\")\n",
    "\n",
    "# Convergence analysis\n",
    "resnet_convergence = len([acc for acc in resnet_history['test_accuracies'] if acc > 85])\n",
    "plain_convergence = len([acc for acc in plain_history['test_accuracies'] if acc > 85])\n",
    "\n",
    "print(f\"\\nCONVERGENCE ANALYSIS:\")\n",
    "print(f\"7. Epochs with >85% accuracy - ResNet: {resnet_convergence}\")\n",
    "print(f\"8. Epochs with >85% accuracy - Plain: {plain_convergence}\")\n",
    "print(\"=\" * 50)"
   ]
  },
  {
   "cell_type": "markdown",
   "metadata": {},
   "source": [
    "### 7.2 Why ResNet Works Better\n",
    "\n",
    "Based on our experiments, here are the key reasons why ResNet outperforms Plain CNN:"
   ]
  },
  {
   "cell_type": "code",
   "execution_count": null,
   "metadata": {},
   "outputs": [],
   "source": [
    "print(\"WHY RESNET WORKS BETTER:\")\n",
    "print(\"=\" * 50)\n",
    "print(\"1. GRADIENT FLOW:\")\n",
    "print(\"   • Skip connections provide direct gradient paths\")\n",
    "print(\"   • Reduces vanishing gradient problem\")\n",
    "print(\"   • Enables training of deeper networks\")\n",
    "print()\n",
    "print(\"2. IDENTITY MAPPING:\")\n",
    "print(\"   • Network can learn identity function easily\")\n",
    "print(\"   • Worst case: F(x) = 0, output = x (no degradation)\")\n",
    "print(\"   • Plain CNN must learn identity through weight layers\")\n",
    "print()\n",
    "print(\"3. FEATURE REUSE:\")\n",
    "print(\"   • Lower-level features directly available to higher layers\")\n",
    "print(\"   • Reduces information loss through layers\")\n",
    "print(\"   • Better feature representation\")\n",
    "print()\n",
    "print(\"4. OPTIMIZATION LANDSCAPE:\")\n",
    "print(\"   • Smoother loss landscape\")\n",
    "print(\"   • Easier optimization\")\n",
    "print(\"   • Better convergence properties\")\n",
    "print(\"=\" * 50)"
   ]
  },
  {
   "cell_type": "markdown",
   "metadata": {},
   "source": [
    "## 8. Extension: Deeper Network Analysis\n",
    "\n",
    "Let's extend our analysis by examining what happens with even deeper networks:"
   ]
  },
  {
   "cell_type": "code",
   "execution_count": null,
   "metadata": {},
   "outputs": [],
   "source": [
    "# Create deeper models for comparison\n",
    "from src.models import ResNet34, PlainCNN34\n",
    "\n",
    "print(\"EXTENSION: Deeper Network Analysis\")\n",
    "print(\"=\" * 40)\n",
    "\n",
    "# Compare parameter counts\n",
    "resnet34 = ResNet34()\n",
    "plain34 = PlainCNN34()\n",
    "\n",
    "print(\"ResNet-34:\")\n",
    "count_parameters(resnet34)\n",
    "print()\n",
    "print(\"Plain CNN-34:\")\n",
    "count_parameters(plain34)\n",
    "\n",
    "# Note: Training these would take longer, so we'll just analyze architecture\n",
    "print(\"\\nOBSERVATION:\")\n",
    "print(\"As networks get deeper (34 layers), the advantage of ResNet becomes even more pronounced.\")\n",
    "print(\"Plain CNNs suffer from degradation problem - deeper networks perform worse than shallow ones.\")\n",
    "print(\"ResNet solves this with skip connections, enabling very deep networks (50, 101, 152 layers).\")"
   ]
  },
  {
   "cell_type": "markdown",
   "metadata": {},
   "source": [
    "## 9. Conclusion and Research Impact\n",
    "\n",
    "### Summary of Findings"
   ]
  },
  {
   "cell_type": "code",
   "execution_count": null,
   "metadata": {},
   "outputs": [],
   "source": [
    "print(\"RESEARCH CONCLUSIONS:\")\n",
    "print(\"=\" * 50)\n",
    "print(\"1. PERFORMANCE GAIN:\")\n",
    "print(f\"   • ResNet-18 achieved {resnet_results['accuracy']:.2f}% accuracy\")\n",
    "print(f\"   • Plain CNN-18 achieved {plain_results['accuracy']:.2f}% accuracy\")\n",
    "print(f\"   • Improvement: {accuracy_improvement:.2f} percentage points\")\n",
    "print()\n",
    "print(\"2. TRAINING DYNAMICS:\")\n",
    "print(\"   • ResNet shows more stable gradient flow\")\n",
    "print(\"   • Better convergence properties\")\n",
    "print(\"   • Less prone to vanishing gradients\")\n",
    "print()\n",
    "print(\"3. ARCHITECTURAL INNOVATION:\")\n",
    "print(\"   • Skip connections are the key innovation\")\n",
    "print(\"   • Enable training of very deep networks\")\n",
    "print(\"   • Solve the degradation problem\")\n",
    "print()\n",
    "print(\"4. RESEARCH IMPACT:\")\n",
    "print(\"   • Revolutionized deep learning architecture design\")\n",
    "print(\"   • Enabled networks with 100+ layers\")\n",
    "print(\"   • Foundation for many subsequent architectures\")\n",
    "print(\"   • Won ImageNet 2015 competition\")\n",
    "print(\"=\" * 50)\n",
    "\n",
    "print(\"\\nThis implementation successfully reproduces the key findings from He et al. (2016):\")\n",
    "print(\"Skip connections enable deeper networks and better performance!\")"
   ]
  },
  {
   "cell_type": "markdown",
   "metadata": {},
   "source": [
    "## 10. Future Directions\n",
    "\n",
    "Based on this research, several directions emerged:\n",
    "\n",
    "1. **DenseNet**: Dense connections between all layers\n",
    "2. **ResNeXt**: Aggregated residual transformations\n",
    "3. **Wide ResNet**: Wider networks instead of deeper\n",
    "4. **EfficientNet**: Compound scaling of depth, width, and resolution\n",
    "5. **Vision Transformers**: Attention-based architectures\n",
    "\n",
    "The ResNet paper fundamentally changed how we think about deep network design and remains influential today."
   ]
  }
 ],
 "metadata": {
  "kernelspec": {
   "display_name": "Python 3",
   "language": "python",
   "name": "python3"
  },
  "language_info": {
   "codemirror_mode": {
    "name": "ipython",
    "version": 3
   },
   "file_extension": ".py",
   "mimetype": "text/x-python",
   "name": "python",
   "nbconvert_exporter": "python",
   "pygments_lexer": "ipython3",
   "version": "3.8.5"
  }
 },
 "nbformat": 4,
 "nbformat_minor": 4
}